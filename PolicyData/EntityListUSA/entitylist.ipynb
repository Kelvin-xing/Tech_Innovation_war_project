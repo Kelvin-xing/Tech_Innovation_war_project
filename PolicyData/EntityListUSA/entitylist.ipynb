{
 "cells": [
  {
   "cell_type": "code",
   "execution_count": 5,
   "metadata": {},
   "outputs": [],
   "source": [
    "import pandas as pd\n",
    "from bs4 import BeautifulSoup\n",
    "import requests\n",
    "import os\n",
    "import time\n",
    "import json\n",
    "import tqdm"
   ]
  },
  {
   "cell_type": "code",
   "execution_count": 7,
   "metadata": {},
   "outputs": [],
   "source": [
    "# Define the log function to gather the log information\n",
    "def log(response,logfile,output_path=os.getcwd()):\n",
    "    # Open or create the csv file\n",
    "    if os.path.isfile(logfile): #If the log file exists, open it and allow for changes     \n",
    "        log = open(logfile,'a')\n",
    "    else: #If the log file does not exist, create it and make headers for the log variables\n",
    "        log = open(logfile,'w')\n",
    "        header = ['timestamp','status_code','length','output_file']\n",
    "        log.write(';'.join(header) + \"\\n\") #Make the headers and jump to new line\n",
    "        \n",
    "    # Gather log information\n",
    "    status_code = response.status_code #Status code from the request result\n",
    "    timestamp = time.strftime('%Y-%m-%d %H:%M:%S', time.localtime(time.time())) #Local time\n",
    "    length = len(response.text) #Length of the HTML-string\n",
    "    \n",
    "    # Open the log file and append the gathered log information\n",
    "    with open(logfile,'a') as log:\n",
    "        log.write(f'{timestamp};{status_code};{length};{output_path}' + \"\\n\") #Append the information and jump to new line"
   ]
  },
  {
   "cell_type": "code",
   "execution_count": null,
   "metadata": {},
   "outputs": [],
   "source": [
    "# Multiple versions of the list\n",
    "dates = ['2023-12-19','2023-12-18','2023-12-08']\n",
    "links = []\n",
    "prototype = 'https://drafting.ecfr.gov/api/renderer/v1/content/drafting/2023-12-19/title-15?subtitle=B&chapter=VII&subchapter=C&part=744&appendix=Supplement%20No.%204%20to%20Part%20744'\n",
    "for date in dates:\n",
    "    url = prototype.replace('2023-12-19',date)\n",
    "    links.append(url)\n",
    "\n",
    "# Request information of the list\n",
    "list_htmls = []\n",
    "logfile = 'log.csv'\n",
    "for url in tqdm.tqdm(links):\n",
    "    try:\n",
    "       response = requests.get(url)\n",
    "    except Exception as e:\n",
    "        print(url)\n",
    "        print(e)\n",
    "        with open(\"list_htmls\",'w') as l:\n",
    "            json.dump(list_htmls,l) # save as json file to retrieve laters\n",
    "        continue # continue to next iteration of url\n",
    "    html = response.text\n",
    "    list_htmls.append(html)\n",
    "    time.sleep(0.5)\n",
    "    log(response,logfile)"
   ]
  },
  {
   "cell_type": "code",
   "execution_count": null,
   "metadata": {},
   "outputs": [],
   "source": [
    "# Table to include the entity list\n",
    "table = []\n",
    "\n",
    "# Parse data with BeautifulSoup\n",
    "soup = BeautifulSoup(response.content, 'html')\n",
    "articles = soup.find_all('')\n"
   ]
  }
 ],
 "metadata": {
  "kernelspec": {
   "display_name": "Python 3",
   "language": "python",
   "name": "python3"
  },
  "language_info": {
   "codemirror_mode": {
    "name": "ipython",
    "version": 3
   },
   "file_extension": ".py",
   "mimetype": "text/x-python",
   "name": "python",
   "nbconvert_exporter": "python",
   "pygments_lexer": "ipython3",
   "version": "3.11.0"
  }
 },
 "nbformat": 4,
 "nbformat_minor": 2
}
